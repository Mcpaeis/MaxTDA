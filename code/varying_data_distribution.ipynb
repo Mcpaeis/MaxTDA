{
 "cells": [
  {
   "cell_type": "code",
   "execution_count": 1,
   "metadata": {},
   "outputs": [],
   "source": [
    "import numpy as np\n",
    "import pandas as pd\n",
    "from kde_functions import *\n",
    "from DTM_filtrations import *"
   ]
  },
  {
   "cell_type": "code",
   "execution_count": 2,
   "metadata": {},
   "outputs": [],
   "source": [
    "np.random.seed(111)\n",
    "true_manifold = pd.read_csv('../data/varyingdatadistribution/threshold_relaxation_true_manifold.csv')[['V1', 'V2', 'V3']]\n",
    "noisy_manifold = pd.read_csv('../data/varyingdatadistribution/threshold_relaxation_noisy_manifold.csv')[['V1', 'V2', 'V3']]\n",
    "n_samples_true = true_manifold.shape[0]\n",
    "n_samples_noisy = noisy_manifold.shape[0]"
   ]
  },
  {
   "cell_type": "code",
   "execution_count": 3,
   "metadata": {},
   "outputs": [],
   "source": [
    "np.random.seed(111)\n",
    "data_ = np.asarray(noisy_manifold)\n",
    "_, props, _ = kde_fit(data_, k=1, eps=0)\n",
    "min_dens = props[2]\n",
    "# KDE samples with no thresholding\n",
    "kde_fit_nothresh, props_nothresh_, bounding_box_ = kde_fit(data_, k=1, eps=min_dens)\n",
    "kde_samples_nothresh, _= kde_sample(kde=kde_fit_nothresh, proposals=props_nothresh_, bounding_box=bounding_box_, num_samples=n_samples_noisy) \n",
    "# KDE samples with thresholding\n",
    "kde_fit_thresh, props_thresh_, bounding_box_ = kde_fit(data_, k=1, eps=min_dens-12.216245561469215)\n",
    "kde_samples_thresh, _= kde_sample(kde=kde_fit_thresh, proposals=props_thresh_, bounding_box=bounding_box_, num_samples=n_samples_noisy)"
   ]
  },
  {
   "cell_type": "code",
   "execution_count": 4,
   "metadata": {},
   "outputs": [],
   "source": [
    "#pd.DataFrame(kde_samples_thresh).to_csv('../data/varyingdatadistribution/threshold_relaxation_kde_samples_thresh.csv')\n",
    "#pd.DataFrame(kde_samples_nothresh).to_csv('../data/varyingdatadistribution/threshold_relaxation_kde_samples_nothresh.csv')"
   ]
  },
  {
   "cell_type": "code",
   "execution_count": null,
   "metadata": {},
   "outputs": [],
   "source": [
    "# Now we repeat the process a couple of times to save multiple thresholded samples\n",
    "# 1. You bootstrap/subsample the original sample data_\n",
    "# 2. Then you fit the KDE thresh to it\n",
    "n_bootstraps = 10\n",
    "for k in range(n_bootstraps):\n",
    "    # Bootstrap the data\n",
    "    idxs = np.random.choice(data_.shape[0], size=data_.shape[0], replace=True)\n",
    "    data_b = data_[idxs]\n",
    "    #pd.DataFrame(data_b).to_csv(f'../data/varyingdatadistribution/temp_bt_mfld/bootstrapped_noisy_manifold{k}.csv')\n",
    "    _, props, _ = kde_fit(data_b, k=1, eps=0)\n",
    "    min_dens = props[2]\n",
    "    #print(min_dens)\n",
    "    kde_fit_thresh_, props_thresh_, bounding_box_ = kde_fit(data_b, k=1, eps=min_dens-12.216245561469215)\n",
    "    kde_samples_thresh_, _= kde_sample(kde=kde_fit_thresh_, proposals=props_thresh_, bounding_box=bounding_box_, num_samples=n_samples_noisy)\n",
    "    #pd.DataFrame(kde_samples_thresh_).to_csv(f'../data/varyingdatadistribution/temp_bt_kde_samples/bootstrapped_thresh_kde_samples{k}.csv')\n"
   ]
  }
 ],
 "metadata": {
  "kernelspec": {
   "display_name": ".venv",
   "language": "python",
   "name": "python3"
  },
  "language_info": {
   "codemirror_mode": {
    "name": "ipython",
    "version": 3
   },
   "file_extension": ".py",
   "mimetype": "text/x-python",
   "name": "python",
   "nbconvert_exporter": "python",
   "pygments_lexer": "ipython3",
   "version": "3.11.10"
  }
 },
 "nbformat": 4,
 "nbformat_minor": 2
}
